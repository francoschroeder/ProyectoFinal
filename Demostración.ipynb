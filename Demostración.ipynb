{
 "cells": [
  {
   "cell_type": "markdown",
   "id": "108e905e",
   "metadata": {},
   "source": [
    "# Demostración"
   ]
  },
  {
   "cell_type": "code",
   "execution_count": 1,
   "id": "f3e251ac",
   "metadata": {},
   "outputs": [],
   "source": [
    "import pandas as pd\n",
    "import numpy as np\n",
    "import pickle\n",
    "import time\n",
    "import datetime\n",
    "import re\n",
    "\n",
    "import sys\n",
    "\n",
    "from tensorflow import keras"
   ]
  },
  {
   "cell_type": "code",
   "execution_count": 2,
   "id": "5076211b",
   "metadata": {},
   "outputs": [],
   "source": [
    "model = keras.models.load_model(\"modelo_pronosticador_regina.h5\")\n",
    "\n",
    "file = open(\"norm.params\", \"rb\")\n",
    "train_mean, train_std, wind_dic = pickle.load(file)\n",
    "file.close()"
   ]
  },
  {
   "cell_type": "code",
   "execution_count": 3,
   "id": "0b007fa2",
   "metadata": {},
   "outputs": [],
   "source": [
    "drop = [0, 1, 3, 4, 12, 13, 15, 14, 9, 20, 21, 27, 31, 32]\n",
    "\n",
    "def transform_date(date, date_format):\n",
    "    date = pd.Timestamp.timestamp(pd.Timestamp(datetime.datetime.strptime(date, date_format)))\n",
    "    \n",
    "    day = 24*60*60\n",
    "    year = 365.2425 * day\n",
    "    \n",
    "    day_sin  = np.sin(date * (2 * np.pi / day))\n",
    "    day_cos  = np.cos(date * (2 * np.pi / day))\n",
    "    year_sin = np.sin(date * (2 * np.pi / year))\n",
    "    year_cos = np.cos(date * (2 * np.pi / year))\n",
    "    \n",
    "    return [day_sin, day_cos, year_sin, year_cos]\n",
    "\n",
    "def convert(data, regex = \"\\s+(?!$)\", date_format = \"%d/%m/%y %H:%M\"):\n",
    "    data = data.splitlines()\n",
    "    conv_data = np.zeros((0, 23))\n",
    "    \n",
    "    check = len(data) - 90\n",
    "    if not check==0:\n",
    "        print(\"Hay \", check, \" muestras de más.\") if check > 0 else print(\"Faltan \", abs(check), \" muestras.\")\n",
    "        return\n",
    "    \n",
    "    for sample in data:\n",
    "        sample = re.split(regex, sample)\n",
    "        date = sample[0] + \" \" + sample[1]\n",
    "        sample[8]  = wind_dic[sample[8]]\n",
    "        sample[11] = wind_dic[sample[11]]\n",
    "        sample = np.delete(sample, drop)\n",
    "        sample = sample.astype(float)\n",
    "        sample[0] -= 2\n",
    "        \n",
    "        sample = np.concatenate((sample, transform_date(date, date_format)))\n",
    "        \n",
    "        sample = (sample-train_mean)/train_std\n",
    "\n",
    "        conv_data = np.vstack((conv_data, sample))\n",
    "    \n",
    "    conv_data = np.reshape(conv_data, (1, 90, 23))\n",
    "    return conv_data"
   ]
  },
  {
   "cell_type": "markdown",
   "id": "656a76ca",
   "metadata": {},
   "source": [
    "## Helada 27/10/21 2:50 AM\n",
    "### Predicción a las 21:00"
   ]
  },
  {
   "cell_type": "markdown",
   "id": "a284e7d5",
   "metadata": {},
   "source": [
    "### Predicción a las 22:00"
   ]
  },
  {
   "cell_type": "markdown",
   "id": "d4693aea",
   "metadata": {},
   "source": [
    "### Predicción a las 23:00"
   ]
  },
  {
   "cell_type": "markdown",
   "id": "ecc1d5e7",
   "metadata": {},
   "source": [
    "## Helada 5/10/21 2:40 AM\n",
    "### Predicción a las 21:00"
   ]
  },
  {
   "cell_type": "markdown",
   "id": "0f956975",
   "metadata": {},
   "source": [
    "### Predicción a las 22:00"
   ]
  },
  {
   "cell_type": "markdown",
   "id": "f22d46c6",
   "metadata": {},
   "source": [
    "### Predicción a las 23:00"
   ]
  },
  {
   "cell_type": "markdown",
   "id": "de1d906c",
   "metadata": {},
   "source": [
    "### Predicción a las 00:00"
   ]
  },
  {
   "cell_type": "code",
   "execution_count": null,
   "id": "84aa9921",
   "metadata": {},
   "outputs": [],
   "source": []
  }
 ],
 "metadata": {
  "kernelspec": {
   "display_name": "Python 3 (ipykernel)",
   "language": "python",
   "name": "python3"
  },
  "language_info": {
   "codemirror_mode": {
    "name": "ipython",
    "version": 3
   },
   "file_extension": ".py",
   "mimetype": "text/x-python",
   "name": "python",
   "nbconvert_exporter": "python",
   "pygments_lexer": "ipython3",
   "version": "3.9.7"
  }
 },
 "nbformat": 4,
 "nbformat_minor": 5
}
