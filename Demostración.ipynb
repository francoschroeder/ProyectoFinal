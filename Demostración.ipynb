{
 "cells": [
  {
   "cell_type": "markdown",
   "id": "3be0bf0a",
   "metadata": {},
   "source": [
    "# Demostración"
   ]
  },
  {
   "cell_type": "code",
   "execution_count": 1,
   "id": "e5f9f1b8",
   "metadata": {},
   "outputs": [],
   "source": [
    "import pandas as pd\n",
    "import numpy as np\n",
    "import pickle\n",
    "import time\n",
    "import datetime\n",
    "from tensorflow import keras"
   ]
  },
  {
   "cell_type": "code",
   "execution_count": 2,
   "id": "90c70993",
   "metadata": {},
   "outputs": [],
   "source": [
    "model = keras.models.load_model(\"modelo_pronosticador_regina.h5\")\n",
    "\n",
    "file = open(\"norm.params\", \"rb\")\n",
    "train_mean, train_std, wind_dic = pickle.load(file)\n",
    "file.close()"
   ]
  },
  {
   "cell_type": "code",
   "execution_count": 3,
   "id": "e13e3a25",
   "metadata": {},
   "outputs": [],
   "source": [
    "drop = [0, 2, 3, 11, 12, 14, 13, 8, 19, 20, 26, 30, 31]\n",
    "\n",
    "day = 24*60*60\n",
    "year = 365.2425 * day\n",
    "\n",
    "def convert(data):\n",
    "    data = data.splitlines()\n",
    "    conv_data = np.zeros((0, 23))\n",
    "    \n",
    "    i = 0\n",
    "    \n",
    "    for sample in data:\n",
    "        sample = sample.split(\"\\t\")\n",
    "        date = sample[0]\n",
    "        sample[7]  = wind_dic[sample[7]]\n",
    "        sample[10] = wind_dic[sample[10]]\n",
    "        sample = np.delete(sample, drop)\n",
    "        sample = sample.astype(float)\n",
    "        sample[0] -= 2\n",
    "        \n",
    "        date = pd.Timestamp.timestamp(pd.Timestamp(datetime.datetime.strptime(date, \"%d.%m.%y %H:%M\")))\n",
    "        \n",
    "        day_sin  = np.sin(date * (2 * np.pi / day))\n",
    "        day_cos  = np.cos(date * (2 * np.pi / day))\n",
    "        year_sin = np.sin(date * (2 * np.pi / year))\n",
    "        year_cos = np.cos(date * (2 * np.pi / year))\n",
    "        \n",
    "        sample = np.concatenate((sample, [day_sin, day_cos, year_sin, year_cos]))\n",
    "        \n",
    "        sample = (sample-train_mean)/train_std\n",
    "        \n",
    "        conv_data = np.vstack((conv_data, sample))\n",
    "    \n",
    "    conv_data = np.reshape(conv_data, (1, 90, 23))\n",
    "    return conv_data"
   ]
  },
  {
   "cell_type": "code",
   "execution_count": 7,
   "id": "1c1105ae",
   "metadata": {},
   "outputs": [
    {
     "name": "stdout",
     "output_type": "stream",
     "text": [
      "[[0.4756378]]\n"
     ]
    }
   ],
   "source": [
    "x = convert(\"\"\"\"\"\")\n",
    "\n",
    "pred = model.predict(x)\n",
    "\n",
    "print(pred)"
   ]
  },
  {
   "cell_type": "code",
   "execution_count": null,
   "id": "58184e33",
   "metadata": {},
   "outputs": [],
   "source": []
  }
 ],
 "metadata": {
  "kernelspec": {
   "display_name": "Python 3 (ipykernel)",
   "language": "python",
   "name": "python3"
  },
  "language_info": {
   "codemirror_mode": {
    "name": "ipython",
    "version": 3
   },
   "file_extension": ".py",
   "mimetype": "text/x-python",
   "name": "python",
   "nbconvert_exporter": "python",
   "pygments_lexer": "ipython3",
   "version": "3.9.7"
  }
 },
 "nbformat": 4,
 "nbformat_minor": 5
}
