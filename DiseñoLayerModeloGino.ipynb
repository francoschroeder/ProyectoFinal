{
 "cells": [
  {
   "cell_type": "markdown",
   "metadata": {},
   "source": [
    "###  Import libraries\n"
   ]
  },
  {
   "cell_type": "code",
   "execution_count": 20,
   "metadata": {},
   "outputs": [],
   "source": [
    "import tensorflow as tf\n",
    "import os\n",
    "import pandas as pd\n",
    "import numpy as np\n",
    "from tensorflow import keras\n",
    "import matplotlib.pyplot as plt\n",
    "%matplotlib inline\n",
    "import os\n",
    "os.environ[\"KMP_DUPLICATE_LIB_OK\"]=\"TRUE\"\n"
   ]
  },
  {
   "cell_type": "markdown",
   "metadata": {},
   "source": [
    "### Read CSV"
   ]
  },
  {
   "cell_type": "code",
   "execution_count": 21,
   "metadata": {},
   "outputs": [],
   "source": [
    "data = pd.read_csv(\"jena_climate_2009_2016.csv\",parse_dates=True, index_col=0)\n",
    "#data.head()\n"
   ]
  },
  {
   "cell_type": "code",
   "execution_count": 22,
   "metadata": {},
   "outputs": [
    {
     "data": {
      "text/plain": [
       "420551"
      ]
     },
     "execution_count": 22,
     "metadata": {},
     "output_type": "execute_result"
    }
   ],
   "source": [
    "len(data)"
   ]
  },
  {
   "cell_type": "markdown",
   "metadata": {},
   "source": [
    "### Step 4: Limit dataset\n",
    "- The dataset has metrics for every 10 minutes - we will limit it to only once per hour\n",
    "    - HINT: **data[5::6]** will start at 5 and step 6.\n",
    "        - **a[start:stop:step]** start through not past stop, by step"
   ]
  },
  {
   "cell_type": "code",
   "execution_count": 23,
   "metadata": {},
   "outputs": [],
   "source": [
    "data = data[5::6]\n"
   ]
  },
  {
   "cell_type": "code",
   "execution_count": 24,
   "metadata": {},
   "outputs": [
    {
     "data": {
      "text/plain": [
       "70091"
      ]
     },
     "execution_count": 24,
     "metadata": {},
     "output_type": "execute_result"
    }
   ],
   "source": [
    "len(data)"
   ]
  },
  {
   "cell_type": "markdown",
   "metadata": {},
   "source": [
    "### Step 5: Investigate data\n",
    "- Call **corr()** on the data to see correlations\n",
    "- Inspect what columns are correlated and not"
   ]
  },
  {
   "cell_type": "code",
   "execution_count": 25,
   "metadata": {},
   "outputs": [
    {
     "data": {
      "text/html": [
       "<div>\n",
       "<style scoped>\n",
       "    .dataframe tbody tr th:only-of-type {\n",
       "        vertical-align: middle;\n",
       "    }\n",
       "\n",
       "    .dataframe tbody tr th {\n",
       "        vertical-align: top;\n",
       "    }\n",
       "\n",
       "    .dataframe thead th {\n",
       "        text-align: right;\n",
       "    }\n",
       "</style>\n",
       "<table border=\"1\" class=\"dataframe\">\n",
       "  <thead>\n",
       "    <tr style=\"text-align: right;\">\n",
       "      <th></th>\n",
       "      <th>p (mbar)</th>\n",
       "      <th>T (degC)</th>\n",
       "      <th>Tpot (K)</th>\n",
       "      <th>Tdew (degC)</th>\n",
       "      <th>rh (%)</th>\n",
       "      <th>VPmax (mbar)</th>\n",
       "      <th>VPact (mbar)</th>\n",
       "      <th>VPdef (mbar)</th>\n",
       "      <th>sh (g/kg)</th>\n",
       "      <th>H2OC (mmol/mol)</th>\n",
       "      <th>rho (g/m**3)</th>\n",
       "      <th>wv (m/s)</th>\n",
       "      <th>max. wv (m/s)</th>\n",
       "      <th>wd (deg)</th>\n",
       "    </tr>\n",
       "  </thead>\n",
       "  <tbody>\n",
       "    <tr>\n",
       "      <th>p (mbar)</th>\n",
       "      <td>1.000000</td>\n",
       "      <td>-0.045296</td>\n",
       "      <td>-0.124643</td>\n",
       "      <td>-0.066698</td>\n",
       "      <td>-0.018363</td>\n",
       "      <td>-0.031455</td>\n",
       "      <td>-0.054353</td>\n",
       "      <td>-0.003283</td>\n",
       "      <td>-0.069749</td>\n",
       "      <td>-0.069792</td>\n",
       "      <td>0.307583</td>\n",
       "      <td>-0.005740</td>\n",
       "      <td>-0.007360</td>\n",
       "      <td>-0.063678</td>\n",
       "    </tr>\n",
       "    <tr>\n",
       "      <th>T (degC)</th>\n",
       "      <td>-0.045296</td>\n",
       "      <td>1.000000</td>\n",
       "      <td>0.996826</td>\n",
       "      <td>0.895706</td>\n",
       "      <td>-0.572593</td>\n",
       "      <td>0.951080</td>\n",
       "      <td>0.867691</td>\n",
       "      <td>0.761672</td>\n",
       "      <td>0.866770</td>\n",
       "      <td>0.867195</td>\n",
       "      <td>-0.963404</td>\n",
       "      <td>-0.004923</td>\n",
       "      <td>-0.003884</td>\n",
       "      <td>0.041577</td>\n",
       "    </tr>\n",
       "    <tr>\n",
       "      <th>Tpot (K)</th>\n",
       "      <td>-0.124643</td>\n",
       "      <td>0.996826</td>\n",
       "      <td>1.000000</td>\n",
       "      <td>0.894909</td>\n",
       "      <td>-0.567306</td>\n",
       "      <td>0.947259</td>\n",
       "      <td>0.866228</td>\n",
       "      <td>0.756886</td>\n",
       "      <td>0.866553</td>\n",
       "      <td>0.866978</td>\n",
       "      <td>-0.981342</td>\n",
       "      <td>-0.004426</td>\n",
       "      <td>-0.003263</td>\n",
       "      <td>0.046465</td>\n",
       "    </tr>\n",
       "    <tr>\n",
       "      <th>Tdew (degC)</th>\n",
       "      <td>-0.066698</td>\n",
       "      <td>0.895706</td>\n",
       "      <td>0.894909</td>\n",
       "      <td>1.000000</td>\n",
       "      <td>-0.156834</td>\n",
       "      <td>0.799182</td>\n",
       "      <td>0.968361</td>\n",
       "      <td>0.435689</td>\n",
       "      <td>0.967614</td>\n",
       "      <td>0.968061</td>\n",
       "      <td>-0.885231</td>\n",
       "      <td>-0.008581</td>\n",
       "      <td>-0.009693</td>\n",
       "      <td>0.052507</td>\n",
       "    </tr>\n",
       "    <tr>\n",
       "      <th>rh (%)</th>\n",
       "      <td>-0.018363</td>\n",
       "      <td>-0.572593</td>\n",
       "      <td>-0.567306</td>\n",
       "      <td>-0.156834</td>\n",
       "      <td>1.000000</td>\n",
       "      <td>-0.616019</td>\n",
       "      <td>-0.151704</td>\n",
       "      <td>-0.843768</td>\n",
       "      <td>-0.151049</td>\n",
       "      <td>-0.151181</td>\n",
       "      <td>0.514461</td>\n",
       "      <td>-0.004227</td>\n",
       "      <td>-0.008641</td>\n",
       "      <td>-0.017297</td>\n",
       "    </tr>\n",
       "    <tr>\n",
       "      <th>VPmax (mbar)</th>\n",
       "      <td>-0.031455</td>\n",
       "      <td>0.951080</td>\n",
       "      <td>0.947259</td>\n",
       "      <td>0.799182</td>\n",
       "      <td>-0.616019</td>\n",
       "      <td>1.000000</td>\n",
       "      <td>0.824758</td>\n",
       "      <td>0.875639</td>\n",
       "      <td>0.824349</td>\n",
       "      <td>0.824386</td>\n",
       "      <td>-0.901488</td>\n",
       "      <td>-0.004358</td>\n",
       "      <td>-0.003154</td>\n",
       "      <td>-0.006787</td>\n",
       "    </tr>\n",
       "    <tr>\n",
       "      <th>VPact (mbar)</th>\n",
       "      <td>-0.054353</td>\n",
       "      <td>0.867691</td>\n",
       "      <td>0.866228</td>\n",
       "      <td>0.968361</td>\n",
       "      <td>-0.151704</td>\n",
       "      <td>0.824758</td>\n",
       "      <td>1.000000</td>\n",
       "      <td>0.449080</td>\n",
       "      <td>0.999851</td>\n",
       "      <td>0.999856</td>\n",
       "      <td>-0.850271</td>\n",
       "      <td>-0.009390</td>\n",
       "      <td>-0.010883</td>\n",
       "      <td>0.020988</td>\n",
       "    </tr>\n",
       "    <tr>\n",
       "      <th>VPdef (mbar)</th>\n",
       "      <td>-0.003283</td>\n",
       "      <td>0.761672</td>\n",
       "      <td>0.756886</td>\n",
       "      <td>0.435689</td>\n",
       "      <td>-0.843768</td>\n",
       "      <td>0.875639</td>\n",
       "      <td>0.449080</td>\n",
       "      <td>1.000000</td>\n",
       "      <td>0.448561</td>\n",
       "      <td>0.448615</td>\n",
       "      <td>-0.698195</td>\n",
       "      <td>0.001138</td>\n",
       "      <td>0.004315</td>\n",
       "      <td>-0.028644</td>\n",
       "    </tr>\n",
       "    <tr>\n",
       "      <th>sh (g/kg)</th>\n",
       "      <td>-0.069749</td>\n",
       "      <td>0.866770</td>\n",
       "      <td>0.866553</td>\n",
       "      <td>0.967614</td>\n",
       "      <td>-0.151049</td>\n",
       "      <td>0.824349</td>\n",
       "      <td>0.999851</td>\n",
       "      <td>0.448561</td>\n",
       "      <td>1.000000</td>\n",
       "      <td>0.999997</td>\n",
       "      <td>-0.853354</td>\n",
       "      <td>-0.009270</td>\n",
       "      <td>-0.010736</td>\n",
       "      <td>0.021961</td>\n",
       "    </tr>\n",
       "    <tr>\n",
       "      <th>H2OC (mmol/mol)</th>\n",
       "      <td>-0.069792</td>\n",
       "      <td>0.867195</td>\n",
       "      <td>0.866978</td>\n",
       "      <td>0.968061</td>\n",
       "      <td>-0.151181</td>\n",
       "      <td>0.824386</td>\n",
       "      <td>0.999856</td>\n",
       "      <td>0.448615</td>\n",
       "      <td>0.999997</td>\n",
       "      <td>1.000000</td>\n",
       "      <td>-0.853801</td>\n",
       "      <td>-0.009272</td>\n",
       "      <td>-0.010736</td>\n",
       "      <td>0.022195</td>\n",
       "    </tr>\n",
       "    <tr>\n",
       "      <th>rho (g/m**3)</th>\n",
       "      <td>0.307583</td>\n",
       "      <td>-0.963404</td>\n",
       "      <td>-0.981342</td>\n",
       "      <td>-0.885231</td>\n",
       "      <td>0.514461</td>\n",
       "      <td>-0.901488</td>\n",
       "      <td>-0.850271</td>\n",
       "      <td>-0.698195</td>\n",
       "      <td>-0.853354</td>\n",
       "      <td>-0.853801</td>\n",
       "      <td>1.000000</td>\n",
       "      <td>0.003418</td>\n",
       "      <td>0.002138</td>\n",
       "      <td>-0.060856</td>\n",
       "    </tr>\n",
       "    <tr>\n",
       "      <th>wv (m/s)</th>\n",
       "      <td>-0.005740</td>\n",
       "      <td>-0.004923</td>\n",
       "      <td>-0.004426</td>\n",
       "      <td>-0.008581</td>\n",
       "      <td>-0.004227</td>\n",
       "      <td>-0.004358</td>\n",
       "      <td>-0.009390</td>\n",
       "      <td>0.001138</td>\n",
       "      <td>-0.009270</td>\n",
       "      <td>-0.009272</td>\n",
       "      <td>0.003418</td>\n",
       "      <td>1.000000</td>\n",
       "      <td>0.865946</td>\n",
       "      <td>-0.015354</td>\n",
       "    </tr>\n",
       "    <tr>\n",
       "      <th>max. wv (m/s)</th>\n",
       "      <td>-0.007360</td>\n",
       "      <td>-0.003884</td>\n",
       "      <td>-0.003263</td>\n",
       "      <td>-0.009693</td>\n",
       "      <td>-0.008641</td>\n",
       "      <td>-0.003154</td>\n",
       "      <td>-0.010883</td>\n",
       "      <td>0.004315</td>\n",
       "      <td>-0.010736</td>\n",
       "      <td>-0.010736</td>\n",
       "      <td>0.002138</td>\n",
       "      <td>0.865946</td>\n",
       "      <td>1.000000</td>\n",
       "      <td>-0.014768</td>\n",
       "    </tr>\n",
       "    <tr>\n",
       "      <th>wd (deg)</th>\n",
       "      <td>-0.063678</td>\n",
       "      <td>0.041577</td>\n",
       "      <td>0.046465</td>\n",
       "      <td>0.052507</td>\n",
       "      <td>-0.017297</td>\n",
       "      <td>-0.006787</td>\n",
       "      <td>0.020988</td>\n",
       "      <td>-0.028644</td>\n",
       "      <td>0.021961</td>\n",
       "      <td>0.022195</td>\n",
       "      <td>-0.060856</td>\n",
       "      <td>-0.015354</td>\n",
       "      <td>-0.014768</td>\n",
       "      <td>1.000000</td>\n",
       "    </tr>\n",
       "  </tbody>\n",
       "</table>\n",
       "</div>"
      ],
      "text/plain": [
       "                 p (mbar)  T (degC)  Tpot (K)  Tdew (degC)    rh (%)  \\\n",
       "p (mbar)         1.000000 -0.045296 -0.124643    -0.066698 -0.018363   \n",
       "T (degC)        -0.045296  1.000000  0.996826     0.895706 -0.572593   \n",
       "Tpot (K)        -0.124643  0.996826  1.000000     0.894909 -0.567306   \n",
       "Tdew (degC)     -0.066698  0.895706  0.894909     1.000000 -0.156834   \n",
       "rh (%)          -0.018363 -0.572593 -0.567306    -0.156834  1.000000   \n",
       "VPmax (mbar)    -0.031455  0.951080  0.947259     0.799182 -0.616019   \n",
       "VPact (mbar)    -0.054353  0.867691  0.866228     0.968361 -0.151704   \n",
       "VPdef (mbar)    -0.003283  0.761672  0.756886     0.435689 -0.843768   \n",
       "sh (g/kg)       -0.069749  0.866770  0.866553     0.967614 -0.151049   \n",
       "H2OC (mmol/mol) -0.069792  0.867195  0.866978     0.968061 -0.151181   \n",
       "rho (g/m**3)     0.307583 -0.963404 -0.981342    -0.885231  0.514461   \n",
       "wv (m/s)        -0.005740 -0.004923 -0.004426    -0.008581 -0.004227   \n",
       "max. wv (m/s)   -0.007360 -0.003884 -0.003263    -0.009693 -0.008641   \n",
       "wd (deg)        -0.063678  0.041577  0.046465     0.052507 -0.017297   \n",
       "\n",
       "                 VPmax (mbar)  VPact (mbar)  VPdef (mbar)  sh (g/kg)  \\\n",
       "p (mbar)            -0.031455     -0.054353     -0.003283  -0.069749   \n",
       "T (degC)             0.951080      0.867691      0.761672   0.866770   \n",
       "Tpot (K)             0.947259      0.866228      0.756886   0.866553   \n",
       "Tdew (degC)          0.799182      0.968361      0.435689   0.967614   \n",
       "rh (%)              -0.616019     -0.151704     -0.843768  -0.151049   \n",
       "VPmax (mbar)         1.000000      0.824758      0.875639   0.824349   \n",
       "VPact (mbar)         0.824758      1.000000      0.449080   0.999851   \n",
       "VPdef (mbar)         0.875639      0.449080      1.000000   0.448561   \n",
       "sh (g/kg)            0.824349      0.999851      0.448561   1.000000   \n",
       "H2OC (mmol/mol)      0.824386      0.999856      0.448615   0.999997   \n",
       "rho (g/m**3)        -0.901488     -0.850271     -0.698195  -0.853354   \n",
       "wv (m/s)            -0.004358     -0.009390      0.001138  -0.009270   \n",
       "max. wv (m/s)       -0.003154     -0.010883      0.004315  -0.010736   \n",
       "wd (deg)            -0.006787      0.020988     -0.028644   0.021961   \n",
       "\n",
       "                 H2OC (mmol/mol)  rho (g/m**3)  wv (m/s)  max. wv (m/s)  \\\n",
       "p (mbar)               -0.069792      0.307583 -0.005740      -0.007360   \n",
       "T (degC)                0.867195     -0.963404 -0.004923      -0.003884   \n",
       "Tpot (K)                0.866978     -0.981342 -0.004426      -0.003263   \n",
       "Tdew (degC)             0.968061     -0.885231 -0.008581      -0.009693   \n",
       "rh (%)                 -0.151181      0.514461 -0.004227      -0.008641   \n",
       "VPmax (mbar)            0.824386     -0.901488 -0.004358      -0.003154   \n",
       "VPact (mbar)            0.999856     -0.850271 -0.009390      -0.010883   \n",
       "VPdef (mbar)            0.448615     -0.698195  0.001138       0.004315   \n",
       "sh (g/kg)               0.999997     -0.853354 -0.009270      -0.010736   \n",
       "H2OC (mmol/mol)         1.000000     -0.853801 -0.009272      -0.010736   \n",
       "rho (g/m**3)           -0.853801      1.000000  0.003418       0.002138   \n",
       "wv (m/s)               -0.009272      0.003418  1.000000       0.865946   \n",
       "max. wv (m/s)          -0.010736      0.002138  0.865946       1.000000   \n",
       "wd (deg)                0.022195     -0.060856 -0.015354      -0.014768   \n",
       "\n",
       "                 wd (deg)  \n",
       "p (mbar)        -0.063678  \n",
       "T (degC)         0.041577  \n",
       "Tpot (K)         0.046465  \n",
       "Tdew (degC)      0.052507  \n",
       "rh (%)          -0.017297  \n",
       "VPmax (mbar)    -0.006787  \n",
       "VPact (mbar)     0.020988  \n",
       "VPdef (mbar)    -0.028644  \n",
       "sh (g/kg)        0.021961  \n",
       "H2OC (mmol/mol)  0.022195  \n",
       "rho (g/m**3)    -0.060856  \n",
       "wv (m/s)        -0.015354  \n",
       "max. wv (m/s)   -0.014768  \n",
       "wd (deg)         1.000000  "
      ]
     },
     "execution_count": 25,
     "metadata": {},
     "output_type": "execute_result"
    }
   ],
   "source": [
    "data.corr()"
   ]
  },
  {
   "cell_type": "markdown",
   "metadata": {},
   "source": [
    "### Step 6: Remove data\n",
    "- Potential some data could be transformed **'wv (m/s)', 'max. wv (m/s)', 'wd (deg)'**\n",
    "    - We will ignorre it"
   ]
  },
  {
   "cell_type": "code",
   "execution_count": 26,
   "metadata": {},
   "outputs": [],
   "source": [
    "df = data.drop(['p (mbar)','wv (m/s)', 'max. wv (m/s)', 'wd (deg)'],axis = 1)"
   ]
  },
  {
   "cell_type": "code",
   "execution_count": 27,
   "metadata": {},
   "outputs": [
    {
     "data": {
      "text/html": [
       "<div>\n",
       "<style scoped>\n",
       "    .dataframe tbody tr th:only-of-type {\n",
       "        vertical-align: middle;\n",
       "    }\n",
       "\n",
       "    .dataframe tbody tr th {\n",
       "        vertical-align: top;\n",
       "    }\n",
       "\n",
       "    .dataframe thead th {\n",
       "        text-align: right;\n",
       "    }\n",
       "</style>\n",
       "<table border=\"1\" class=\"dataframe\">\n",
       "  <thead>\n",
       "    <tr style=\"text-align: right;\">\n",
       "      <th></th>\n",
       "      <th>T (degC)</th>\n",
       "      <th>Tpot (K)</th>\n",
       "      <th>Tdew (degC)</th>\n",
       "      <th>rh (%)</th>\n",
       "      <th>VPmax (mbar)</th>\n",
       "      <th>VPact (mbar)</th>\n",
       "      <th>VPdef (mbar)</th>\n",
       "      <th>sh (g/kg)</th>\n",
       "      <th>H2OC (mmol/mol)</th>\n",
       "      <th>rho (g/m**3)</th>\n",
       "    </tr>\n",
       "    <tr>\n",
       "      <th>Date Time</th>\n",
       "      <th></th>\n",
       "      <th></th>\n",
       "      <th></th>\n",
       "      <th></th>\n",
       "      <th></th>\n",
       "      <th></th>\n",
       "      <th></th>\n",
       "      <th></th>\n",
       "      <th></th>\n",
       "      <th></th>\n",
       "    </tr>\n",
       "  </thead>\n",
       "  <tbody>\n",
       "    <tr>\n",
       "      <th>2009-01-01 01:00:00</th>\n",
       "      <td>-8.05</td>\n",
       "      <td>265.38</td>\n",
       "      <td>-8.78</td>\n",
       "      <td>94.4</td>\n",
       "      <td>3.33</td>\n",
       "      <td>3.14</td>\n",
       "      <td>0.19</td>\n",
       "      <td>1.96</td>\n",
       "      <td>3.15</td>\n",
       "      <td>1307.86</td>\n",
       "    </tr>\n",
       "    <tr>\n",
       "      <th>2009-01-01 02:00:00</th>\n",
       "      <td>-8.88</td>\n",
       "      <td>264.54</td>\n",
       "      <td>-9.77</td>\n",
       "      <td>93.2</td>\n",
       "      <td>3.12</td>\n",
       "      <td>2.90</td>\n",
       "      <td>0.21</td>\n",
       "      <td>1.81</td>\n",
       "      <td>2.91</td>\n",
       "      <td>1312.25</td>\n",
       "    </tr>\n",
       "    <tr>\n",
       "      <th>2009-01-01 03:00:00</th>\n",
       "      <td>-8.81</td>\n",
       "      <td>264.59</td>\n",
       "      <td>-9.66</td>\n",
       "      <td>93.5</td>\n",
       "      <td>3.13</td>\n",
       "      <td>2.93</td>\n",
       "      <td>0.20</td>\n",
       "      <td>1.83</td>\n",
       "      <td>2.94</td>\n",
       "      <td>1312.18</td>\n",
       "    </tr>\n",
       "    <tr>\n",
       "      <th>2009-01-01 04:00:00</th>\n",
       "      <td>-9.05</td>\n",
       "      <td>264.34</td>\n",
       "      <td>-10.02</td>\n",
       "      <td>92.6</td>\n",
       "      <td>3.07</td>\n",
       "      <td>2.85</td>\n",
       "      <td>0.23</td>\n",
       "      <td>1.78</td>\n",
       "      <td>2.85</td>\n",
       "      <td>1313.61</td>\n",
       "    </tr>\n",
       "    <tr>\n",
       "      <th>2009-01-01 05:00:00</th>\n",
       "      <td>-9.63</td>\n",
       "      <td>263.72</td>\n",
       "      <td>-10.65</td>\n",
       "      <td>92.2</td>\n",
       "      <td>2.94</td>\n",
       "      <td>2.71</td>\n",
       "      <td>0.23</td>\n",
       "      <td>1.69</td>\n",
       "      <td>2.71</td>\n",
       "      <td>1317.19</td>\n",
       "    </tr>\n",
       "  </tbody>\n",
       "</table>\n",
       "</div>"
      ],
      "text/plain": [
       "                     T (degC)  Tpot (K)  Tdew (degC)  rh (%)  VPmax (mbar)  \\\n",
       "Date Time                                                                    \n",
       "2009-01-01 01:00:00     -8.05    265.38        -8.78    94.4          3.33   \n",
       "2009-01-01 02:00:00     -8.88    264.54        -9.77    93.2          3.12   \n",
       "2009-01-01 03:00:00     -8.81    264.59        -9.66    93.5          3.13   \n",
       "2009-01-01 04:00:00     -9.05    264.34       -10.02    92.6          3.07   \n",
       "2009-01-01 05:00:00     -9.63    263.72       -10.65    92.2          2.94   \n",
       "\n",
       "                     VPact (mbar)  VPdef (mbar)  sh (g/kg)  H2OC (mmol/mol)  \\\n",
       "Date Time                                                                     \n",
       "2009-01-01 01:00:00          3.14          0.19       1.96             3.15   \n",
       "2009-01-01 02:00:00          2.90          0.21       1.81             2.91   \n",
       "2009-01-01 03:00:00          2.93          0.20       1.83             2.94   \n",
       "2009-01-01 04:00:00          2.85          0.23       1.78             2.85   \n",
       "2009-01-01 05:00:00          2.71          0.23       1.69             2.71   \n",
       "\n",
       "                     rho (g/m**3)  \n",
       "Date Time                          \n",
       "2009-01-01 01:00:00       1307.86  \n",
       "2009-01-01 02:00:00       1312.25  \n",
       "2009-01-01 03:00:00       1312.18  \n",
       "2009-01-01 04:00:00       1313.61  \n",
       "2009-01-01 05:00:00       1317.19  "
      ]
     },
     "execution_count": 27,
     "metadata": {},
     "output_type": "execute_result"
    }
   ],
   "source": [
    "df.head()"
   ]
  },
  {
   "cell_type": "markdown",
   "metadata": {},
   "source": [
    "### Step 7: Add periodic time intervals\n",
    "- Temperature is correlated to the time of day - e.g. it is warmer at mid day than at mid night\n",
    "- Temperature is correlated to seasons (most places in the world) - e.g. it is warmer in summer than in winter\n",
    "- The datetime index is not easy for the model to interpret, hence we can transform it into sinus and cosinus curves based on day and year.\n",
    "- Do it like this\n",
    "    - Assign the dataframe index to a variable, say, **timestamp_s**\n",
    "    - Transform that by using **map(pd.Timestamp.timestamp)**\n",
    "    - Use the period **day =** $24\\times 60 \\times 60$ and **year =** $(365.2425)\\times$**day**\n",
    "    - Make the following columns **'Day sin', 'Day cos', 'Year sin'**, and **'Year cos'** as follows:\n",
    "        - e.g. **df['Day sin'] = np.sin(timestamp_s * (2 * np.pi / day))**"
   ]
  },
  {
   "cell_type": "code",
   "execution_count": 28,
   "metadata": {},
   "outputs": [
    {
     "name": "stdout",
     "output_type": "stream",
     "text": [
      "DatetimeIndex(['2009-01-01 01:00:00', '2009-01-01 02:00:00',\n",
      "               '2009-01-01 03:00:00', '2009-01-01 04:00:00',\n",
      "               '2009-01-01 05:00:00', '2009-01-01 06:00:00',\n",
      "               '2009-01-01 07:00:00', '2009-01-01 08:00:00',\n",
      "               '2009-01-01 09:00:00', '2009-01-01 10:00:00',\n",
      "               ...\n",
      "               '2016-12-31 14:10:00', '2016-12-31 15:10:00',\n",
      "               '2016-12-31 16:10:00', '2016-12-31 17:10:00',\n",
      "               '2016-12-31 18:10:00', '2016-12-31 19:10:00',\n",
      "               '2016-12-31 20:10:00', '2016-12-31 21:10:00',\n",
      "               '2016-12-31 22:10:00', '2016-12-31 23:10:00'],\n",
      "              dtype='datetime64[ns]', name='Date Time', length=70091, freq=None)\n",
      "Float64Index([1230771600.0, 1230775200.0, 1230778800.0, 1230782400.0,\n",
      "              1230786000.0, 1230789600.0, 1230793200.0, 1230796800.0,\n",
      "              1230800400.0, 1230804000.0,\n",
      "              ...\n",
      "              1483193400.0, 1483197000.0, 1483200600.0, 1483204200.0,\n",
      "              1483207800.0, 1483211400.0, 1483215000.0, 1483218600.0,\n",
      "              1483222200.0, 1483225800.0],\n",
      "             dtype='float64', name='Date Time', length=70091)\n"
     ]
    }
   ],
   "source": [
    "timestamp_s = df.index\n",
    "print(df.index)\n",
    "timestamp_s = timestamp_s.map(pd.Timestamp.timestamp)\n",
    "print(timestamp_s)"
   ]
  },
  {
   "cell_type": "code",
   "execution_count": 29,
   "metadata": {},
   "outputs": [],
   "source": [
    "day = 24*60*60\n",
    "year = 365.2425 * day\n",
    "\n"
   ]
  },
  {
   "cell_type": "code",
   "execution_count": 30,
   "metadata": {},
   "outputs": [],
   "source": [
    " df['Day sin'] = np.sin(timestamp_s * (2 * np.pi / day))\n",
    " df['Day cos'] = np.cos(timestamp_s * (2 * np.pi / day))\n",
    " df['Year sin'] = np.sin(timestamp_s * (2 * np.pi / year))\n",
    " df['Year cos'] = np.cos(timestamp_s * (2 * np.pi / year))"
   ]
  },
  {
   "cell_type": "markdown",
   "metadata": {},
   "source": [
    "### Step 8: Splitting data\n",
    "\n",
    "#### About splitting\n",
    "If you want to build a solid model you have to follow that specific protocol of splitting your data into three sets: One for training, one for validation and one for final evaluation, which is the test set.\n",
    "\n",
    "The idea is that you train on your training data and tune your model with the results of metrics (accuracy, loss etc) that you get from your validation set.\n",
    "\n",
    "Your model doesn't \"see\" your validation set and isn't in any way trained on it, but you as the architect and master of the hyperparameters tune the model according to this data. Therefore it indirectly influences your model because it directly influences your design decisions. You nudge your model to work well with the validation data and that can possibly bring in a tilt.\n",
    "\n",
    "#### What to do?\n",
    "- Use the length of data and split it into\n",
    "    - 70% for training\n",
    "    - 20% for validation\n",
    "    - 10% for testing set"
   ]
  },
  {
   "cell_type": "code",
   "execution_count": 31,
   "metadata": {},
   "outputs": [],
   "source": [
    "n = len(df)\n",
    "train_df = df[:int(n*.7)]\n",
    "val_df = df[int(n*.7):int(n*.9)]\n",
    "test_df = df[int(n*.9):]"
   ]
  },
  {
   "cell_type": "markdown",
   "metadata": {},
   "source": [
    "### Step 9: Normalize data\n",
    "- Only normalize data based on training data\n",
    "    - Notice you should only normalize the training data - because validation and test data could affect the normalization\n",
    "- Get the mean and standard deviation of the data\n",
    "    - HINT: Use **.mean()** and **.std()** on the dataframe.\n",
    "- Noramlize the data as follows\n",
    "    - **train_df = (train_df - train_mean) / train_std** (assuming naming fits)\n",
    "    - HINT: The transformation of validation and test data is done similarly with **train_mean** and **train_std**."
   ]
  },
  {
   "cell_type": "code",
   "execution_count": null,
   "metadata": {},
   "outputs": [],
   "source": []
  },
  {
   "cell_type": "code",
   "execution_count": 32,
   "metadata": {},
   "outputs": [],
   "source": [
    "train_mean = train_df.mean()\n",
    "train_std = train_df.std()\n",
    "\n"
   ]
  },
  {
   "cell_type": "code",
   "execution_count": 33,
   "metadata": {},
   "outputs": [],
   "source": [
    "train_df = (train_df - train_mean) / train_std\n",
    "val_df = (val_df - train_mean) / train_std\n",
    "test_df = (test_df - train_mean) / train_std"
   ]
  },
  {
   "cell_type": "code",
   "execution_count": 34,
   "metadata": {},
   "outputs": [
    {
     "data": {
      "text/html": [
       "<div>\n",
       "<style scoped>\n",
       "    .dataframe tbody tr th:only-of-type {\n",
       "        vertical-align: middle;\n",
       "    }\n",
       "\n",
       "    .dataframe tbody tr th {\n",
       "        vertical-align: top;\n",
       "    }\n",
       "\n",
       "    .dataframe thead th {\n",
       "        text-align: right;\n",
       "    }\n",
       "</style>\n",
       "<table border=\"1\" class=\"dataframe\">\n",
       "  <thead>\n",
       "    <tr style=\"text-align: right;\">\n",
       "      <th></th>\n",
       "      <th>T (degC)</th>\n",
       "      <th>Tpot (K)</th>\n",
       "      <th>Tdew (degC)</th>\n",
       "      <th>rh (%)</th>\n",
       "      <th>VPmax (mbar)</th>\n",
       "      <th>VPact (mbar)</th>\n",
       "      <th>VPdef (mbar)</th>\n",
       "      <th>sh (g/kg)</th>\n",
       "      <th>H2OC (mmol/mol)</th>\n",
       "      <th>rho (g/m**3)</th>\n",
       "      <th>Day sin</th>\n",
       "      <th>Day cos</th>\n",
       "      <th>Year sin</th>\n",
       "      <th>Year cos</th>\n",
       "    </tr>\n",
       "    <tr>\n",
       "      <th>Date Time</th>\n",
       "      <th></th>\n",
       "      <th></th>\n",
       "      <th></th>\n",
       "      <th></th>\n",
       "      <th></th>\n",
       "      <th></th>\n",
       "      <th></th>\n",
       "      <th></th>\n",
       "      <th></th>\n",
       "      <th></th>\n",
       "      <th></th>\n",
       "      <th></th>\n",
       "      <th></th>\n",
       "      <th></th>\n",
       "    </tr>\n",
       "  </thead>\n",
       "  <tbody>\n",
       "    <tr>\n",
       "      <th>2009-01-01 01:00:00</th>\n",
       "      <td>-1.982473</td>\n",
       "      <td>-2.041888</td>\n",
       "      <td>-1.918973</td>\n",
       "      <td>1.117102</td>\n",
       "      <td>-1.302851</td>\n",
       "      <td>-1.477323</td>\n",
       "      <td>-0.790424</td>\n",
       "      <td>-1.480036</td>\n",
       "      <td>-1.482697</td>\n",
       "      <td>2.218524</td>\n",
       "      <td>0.366111</td>\n",
       "      <td>1.366069</td>\n",
       "      <td>-0.033087</td>\n",
       "      <td>1.424902</td>\n",
       "    </tr>\n",
       "    <tr>\n",
       "      <th>2009-01-01 02:00:00</th>\n",
       "      <td>-2.078372</td>\n",
       "      <td>-2.138166</td>\n",
       "      <td>-2.060964</td>\n",
       "      <td>1.044617</td>\n",
       "      <td>-1.330143</td>\n",
       "      <td>-1.534354</td>\n",
       "      <td>-0.786272</td>\n",
       "      <td>-1.536190</td>\n",
       "      <td>-1.539035</td>\n",
       "      <td>2.325708</td>\n",
       "      <td>0.707200</td>\n",
       "      <td>1.224794</td>\n",
       "      <td>-0.032069</td>\n",
       "      <td>1.424891</td>\n",
       "    </tr>\n",
       "    <tr>\n",
       "      <th>2009-01-01 03:00:00</th>\n",
       "      <td>-2.070284</td>\n",
       "      <td>-2.132435</td>\n",
       "      <td>-2.045187</td>\n",
       "      <td>1.062738</td>\n",
       "      <td>-1.328843</td>\n",
       "      <td>-1.527225</td>\n",
       "      <td>-0.788348</td>\n",
       "      <td>-1.528703</td>\n",
       "      <td>-1.531992</td>\n",
       "      <td>2.323998</td>\n",
       "      <td>1.000100</td>\n",
       "      <td>1.000059</td>\n",
       "      <td>-0.031052</td>\n",
       "      <td>1.424880</td>\n",
       "    </tr>\n",
       "    <tr>\n",
       "      <th>2009-01-01 04:00:00</th>\n",
       "      <td>-2.098014</td>\n",
       "      <td>-2.161090</td>\n",
       "      <td>-2.096820</td>\n",
       "      <td>1.008375</td>\n",
       "      <td>-1.336641</td>\n",
       "      <td>-1.546235</td>\n",
       "      <td>-0.782121</td>\n",
       "      <td>-1.547420</td>\n",
       "      <td>-1.553119</td>\n",
       "      <td>2.358913</td>\n",
       "      <td>1.224850</td>\n",
       "      <td>0.707179</td>\n",
       "      <td>-0.030034</td>\n",
       "      <td>1.424868</td>\n",
       "    </tr>\n",
       "    <tr>\n",
       "      <th>2009-01-01 05:00:00</th>\n",
       "      <td>-2.165028</td>\n",
       "      <td>-2.232152</td>\n",
       "      <td>-2.187178</td>\n",
       "      <td>0.984214</td>\n",
       "      <td>-1.353535</td>\n",
       "      <td>-1.579503</td>\n",
       "      <td>-0.782121</td>\n",
       "      <td>-1.581113</td>\n",
       "      <td>-1.585982</td>\n",
       "      <td>2.446320</td>\n",
       "      <td>1.366133</td>\n",
       "      <td>0.366112</td>\n",
       "      <td>-0.029016</td>\n",
       "      <td>1.424855</td>\n",
       "    </tr>\n",
       "  </tbody>\n",
       "</table>\n",
       "</div>"
      ],
      "text/plain": [
       "                     T (degC)  Tpot (K)  Tdew (degC)    rh (%)  VPmax (mbar)  \\\n",
       "Date Time                                                                      \n",
       "2009-01-01 01:00:00 -1.982473 -2.041888    -1.918973  1.117102     -1.302851   \n",
       "2009-01-01 02:00:00 -2.078372 -2.138166    -2.060964  1.044617     -1.330143   \n",
       "2009-01-01 03:00:00 -2.070284 -2.132435    -2.045187  1.062738     -1.328843   \n",
       "2009-01-01 04:00:00 -2.098014 -2.161090    -2.096820  1.008375     -1.336641   \n",
       "2009-01-01 05:00:00 -2.165028 -2.232152    -2.187178  0.984214     -1.353535   \n",
       "\n",
       "                     VPact (mbar)  VPdef (mbar)  sh (g/kg)  H2OC (mmol/mol)  \\\n",
       "Date Time                                                                     \n",
       "2009-01-01 01:00:00     -1.477323     -0.790424  -1.480036        -1.482697   \n",
       "2009-01-01 02:00:00     -1.534354     -0.786272  -1.536190        -1.539035   \n",
       "2009-01-01 03:00:00     -1.527225     -0.788348  -1.528703        -1.531992   \n",
       "2009-01-01 04:00:00     -1.546235     -0.782121  -1.547420        -1.553119   \n",
       "2009-01-01 05:00:00     -1.579503     -0.782121  -1.581113        -1.585982   \n",
       "\n",
       "                     rho (g/m**3)   Day sin   Day cos  Year sin  Year cos  \n",
       "Date Time                                                                  \n",
       "2009-01-01 01:00:00      2.218524  0.366111  1.366069 -0.033087  1.424902  \n",
       "2009-01-01 02:00:00      2.325708  0.707200  1.224794 -0.032069  1.424891  \n",
       "2009-01-01 03:00:00      2.323998  1.000100  1.000059 -0.031052  1.424880  \n",
       "2009-01-01 04:00:00      2.358913  1.224850  0.707179 -0.030034  1.424868  \n",
       "2009-01-01 05:00:00      2.446320  1.366133  0.366112 -0.029016  1.424855  "
      ]
     },
     "execution_count": 34,
     "metadata": {},
     "output_type": "execute_result"
    }
   ],
   "source": [
    "train_df.head()\n"
   ]
  },
  {
   "cell_type": "markdown",
   "metadata": {},
   "source": [
    "### Step 10: Create datasets\n"
   ]
  },
  {
   "cell_type": "code",
   "execution_count": 35,
   "metadata": {},
   "outputs": [],
   "source": [
    "def create_dataset(df, input_width=24, offset = 3, predict_column='T (degC)'):\n",
    "    x = []\n",
    "    y = []\n",
    "    data_x = df.to_numpy()\n",
    "    data_y = df[predict_column].to_numpy()\n",
    "    \n",
    "    for i in range(input_width, len(data_x) - offset):\n",
    "        x.append(data_x[i - input_width:i,:])\n",
    "        y.append(data_y[i + offset])\n",
    "        \n",
    "    x = np.array(x)\n",
    "    y = np.array(y)\n",
    "    \n",
    "    return x, y.reshape(-1,1)\n",
    "\n"
   ]
  },
  {
   "cell_type": "code",
   "execution_count": 36,
   "metadata": {},
   "outputs": [],
   "source": [
    "train_ds = create_dataset(train_df)\n",
    "val_ds = create_dataset(val_df)\n",
    "test_ds = create_dataset(test_df)"
   ]
  },
  {
   "cell_type": "code",
   "execution_count": 37,
   "metadata": {},
   "outputs": [
    {
     "data": {
      "text/plain": [
       "(49036, 24, 14)"
      ]
     },
     "execution_count": 37,
     "metadata": {},
     "output_type": "execute_result"
    }
   ],
   "source": [
    "train_ds[0].shape"
   ]
  },
  {
   "cell_type": "markdown",
   "metadata": {},
   "source": [
    "### Step 11: Create model\n",
    "- Create the following model\n",
    "    - **model = models.Sequential()**\n",
    "    - **model.add(layers.LSTM(32, return_sequences=True, input_shape=train_ds[0].shape[1:]))**\n",
    "    - **model.add(layers.Dense(units=1))**"
   ]
  },
  {
   "cell_type": "markdown",
   "metadata": {},
   "source": [
    "inputs = keras.layers.Input(shape=(train_ds[0].shape[1], train_ds[0].shape[2]))\n",
    "lstm_layer = keras.layers.LSTM(32, activation='relu', return_sequences=True)(inputs)\n",
    "lstm_layer2 = keras.layers.LSTM(32, activation='relu', return_sequences=True)(lstm_layer)\n",
    "output = keras.layers.Dense(1)(lstm_layer2)\n",
    "\n",
    "model = keras.Model(inputs, output)\n",
    "model.compile(keras.optimizers.Adam(0.001), loss=\"mse\")\n",
    "model.summary()"
   ]
  },
  {
   "cell_type": "markdown",
   "metadata": {},
   "source": [
    "inputs = keras.layers.Input(shape=(train_ds[0].shape[1], train_ds[0].shape[2]))\n",
    "lstm_layer = keras.layers.LSTM(32, activation='relu',return_sequences=True)(inputs)\n",
    "lstm_layer2 = keras.layers.LSTM(32, activation='relu')(lstm_layer)\n",
    "output = keras.layers.Dense(1)(lstm_layer2)\n",
    "\n",
    "model = keras.Model(inputs, output)\n",
    "model.compile(keras.optimizers.Adam(0.001), loss=\"mse\")\n",
    "model.summary()"
   ]
  },
  {
   "cell_type": "code",
   "execution_count": 39,
   "metadata": {},
   "outputs": [
    {
     "name": "stdout",
     "output_type": "stream",
     "text": [
      "Model: \"model\"\n",
      "_________________________________________________________________\n",
      "Layer (type)                 Output Shape              Param #   \n",
      "=================================================================\n",
      "input_3 (InputLayer)         [(None, 24, 14)]          0         \n",
      "_________________________________________________________________\n",
      "lstm_4 (LSTM)                (None, 24, 32)            6016      \n",
      "_________________________________________________________________\n",
      "lstm_5 (LSTM)                (None, 32)                8320      \n",
      "_________________________________________________________________\n",
      "dense (Dense)                (None, 1)                 33        \n",
      "=================================================================\n",
      "Total params: 14,369\n",
      "Trainable params: 14,369\n",
      "Non-trainable params: 0\n",
      "_________________________________________________________________\n"
     ]
    }
   ],
   "source": [
    "inputs = keras.layers.Input(shape=(train_ds[0].shape[1], train_ds[0].shape[2]))\n",
    "lstm_layer = keras.layers.LSTM(32, activation='relu',return_sequences=True)(inputs)\n",
    "lstm_layer2 = keras.layers.LSTM(32, activation='relu')(lstm_layer)\n",
    "output = keras.layers.Dense(1)(lstm_layer2)\n",
    "\n",
    "model = keras.Model(inputs, output)\n",
    "model.compile(keras.optimizers.Adam(0.001), loss=\"mse\")\n",
    "model.summary()"
   ]
  },
  {
   "cell_type": "markdown",
   "metadata": {},
   "source": [
    "### Step 12: Train model\n",
    "- Compile and fit the model\n",
    "- Complie the model as follows\n",
    "    - **model.compile(optimizer='adam', loss='mean_squared_error', metrics=['accuracy'])**\n",
    "- Fit the model as follows\n",
    "    - **model.fit(x=train_ds[0], y=train_ds[1], validation_data=(val_ds[0], val_ds[1]), epochs=5)**"
   ]
  },
  {
   "cell_type": "code",
   "execution_count": 40,
   "metadata": {
    "scrolled": true
   },
   "outputs": [
    {
     "name": "stdout",
     "output_type": "stream",
     "text": [
      "Epoch 1/15\n",
      "1533/1533 [==============================] - 32s 18ms/step - loss: 0.0616 - val_loss: 0.0429\n",
      "Epoch 2/15\n",
      "1533/1533 [==============================] - 33s 22ms/step - loss: 0.0377 - val_loss: 0.0369\n",
      "Epoch 3/15\n",
      "1533/1533 [==============================] - 31s 20ms/step - loss: 0.0357 - val_loss: 0.0377\n",
      "Epoch 4/15\n",
      "1533/1533 [==============================] - 31s 20ms/step - loss: 0.0348 - val_loss: 0.0391\n",
      "Epoch 5/15\n",
      "1533/1533 [==============================] - 31s 20ms/step - loss: 0.0338 - val_loss: 0.0369\n",
      "Epoch 6/15\n",
      "1533/1533 [==============================] - 31s 20ms/step - loss: 0.0329 - val_loss: 0.0339\n",
      "Epoch 7/15\n",
      "1533/1533 [==============================] - 31s 20ms/step - loss: 0.0327 - val_loss: 0.0360\n",
      "Epoch 8/15\n",
      "1533/1533 [==============================] - 31s 20ms/step - loss: 0.0320 - val_loss: 0.0340\n",
      "Epoch 9/15\n",
      "1533/1533 [==============================] - 32s 21ms/step - loss: 0.0316 - val_loss: 0.0345\n",
      "Epoch 10/15\n",
      "1533/1533 [==============================] - 32s 21ms/step - loss: 0.0310 - val_loss: 0.0344\n",
      "Epoch 11/15\n",
      "1533/1533 [==============================] - 32s 21ms/step - loss: 0.0306 - val_loss: 0.0360\n",
      "Epoch 12/15\n",
      "1533/1533 [==============================] - 32s 21ms/step - loss: 0.0299 - val_loss: 0.0345\n",
      "Epoch 13/15\n",
      "1533/1533 [==============================] - 32s 21ms/step - loss: 0.0295 - val_loss: 0.0340\n",
      "Epoch 14/15\n",
      "1533/1533 [==============================] - 32s 21ms/step - loss: 0.0291 - val_loss: 0.0349\n",
      "Epoch 15/15\n",
      "1533/1533 [==============================] - 34s 22ms/step - loss: 0.0286 - val_loss: 0.0341\n"
     ]
    }
   ],
   "source": [
    "history = model.fit(x=train_ds[0], y=train_ds[1], epochs=15, validation_data=val_ds)\n"
   ]
  },
  {
   "cell_type": "code",
   "execution_count": 41,
   "metadata": {},
   "outputs": [
    {
     "data": {
      "image/png": "[encoded data removed]",
      "text/plain": [
       "<Figure size 432x288 with 1 Axes>"
      ]
     },
     "metadata": {
      "needs_background": "light"
     },
     "output_type": "display_data"
    }
   ],
   "source": [
    "def visualize_loss(history, title):\n",
    "    loss = history.history[\"loss\"]\n",
    "    val_loss = history.history[\"val_loss\"]\n",
    "    epochs = range(len(loss))\n",
    "    plt.figure()\n",
    "    plt.plot(epochs, loss, \"b\", label=\"Training loss\")\n",
    "    plt.plot(epochs, val_loss, \"r\", label=\"Validation loss\")\n",
    "    plt.title(title)\n",
    "    plt.xlabel(\"Epochs\")\n",
    "    plt.ylabel(\"Loss\")\n",
    "    plt.legend()\n",
    "    plt.show()\n",
    "\n",
    "\n",
    "visualize_loss(history, \"Training and Validation Loss\")\n",
    "\n"
   ]
  },
  {
   "cell_type": "markdown",
   "metadata": {},
   "source": [
    "### Step 13: Predict data\n",
    "- Apply the model on the test data\n",
    "    - HINT: Use **model.predict(x)**, where **x** is assigned to the test data."
   ]
  },
  {
   "cell_type": "code",
   "execution_count": 42,
   "metadata": {},
   "outputs": [
    {
     "data": {
      "text/plain": [
       "(6983, 1)"
      ]
     },
     "execution_count": 42,
     "metadata": {},
     "output_type": "execute_result"
    }
   ],
   "source": [
    "x, y = test_ds\n",
    "\n",
    "y_pred = model.predict(x)\n",
    "\n",
    "y_pred.shape"
   ]
  },
  {
   "cell_type": "markdown",
   "metadata": {},
   "source": [
    "### Step 14: Plot the result\n",
    "- Plot a window of the data predicted together with the actual data.\n",
    "- One way:\n",
    "    - **fig, ax = plt.subplots()**\n",
    "    - **ax.plot(y[i:i+96*2,0], c='g')**\n",
    "    - **ax.plot(pred[i:i+96*2,-1,0], c='r')**\n",
    "- It will plot a window of 96 hours, where you can index with **i** (**i=150** as an example) and **y** is the real values and **pred** are the predicted values"
   ]
  },
  {
   "cell_type": "code",
   "execution_count": 43,
   "metadata": {},
   "outputs": [
    {
     "data": {
      "text/plain": [
       "<matplotlib.legend.Legend at 0x1a1b87f8d30>"
      ]
     },
     "execution_count": 43,
     "metadata": {},
     "output_type": "execute_result"
    },
    {
     "data": {
      "image/png": "[encoded data removed]",
      "text/plain": [
       "<Figure size 432x288 with 1 Axes>"
      ]
     },
     "metadata": {
      "needs_background": "light"
     },
     "output_type": "display_data"
    }
   ],
   "source": [
    "fig, ax = plt.subplots()\n",
    "\n",
    "i = 150\n",
    "\n",
    "ax.plot(y[0:100], c='g', label=\"Test Data\")\n",
    "ax.plot(y_pred[0:100], c='r', label=\"Prediction\")\n",
    "plt.legend()"
   ]
  },
  {
   "cell_type": "code",
   "execution_count": null,
   "metadata": {},
   "outputs": [],
   "source": [
    "fig, ax = plt.subplots()\n",
    "\n",
    "i = 150\n",
    "\n",
    "ax.plot(y[500:600], c='g', label=\"Test Data\")\n",
    "ax.plot(y_pred[500:600], c='r', label=\"Prediction\")\n",
    "plt.legend()"
   ]
  },
  {
   "cell_type": "code",
   "execution_count": null,
   "metadata": {},
   "outputs": [],
   "source": [
    "fig, ax = plt.subplots()\n",
    "\n",
    "i = 150\n",
    "\n",
    "ax.plot(y[1000:1100], c='g', label=\"Test Data\")\n",
    "ax.plot(y_pred[1000:1100], c='r', label=\"Prediction\")\n",
    "plt.legend()"
   ]
  },
  {
   "cell_type": "code",
   "execution_count": null,
   "metadata": {},
   "outputs": [],
   "source": [
    "fig, ax = plt.subplots()\n",
    "\n",
    "i = 150\n",
    "\n",
    "ax.plot(y[5000:5100], c='g', label=\"Test Data\")\n",
    "ax.plot(y_pred[5000:5100], c='r', label=\"Prediction\")\n",
    "plt.legend()"
   ]
  },
  {
   "cell_type": "code",
   "execution_count": null,
   "metadata": {},
   "outputs": [],
   "source": []
  },
  {
   "cell_type": "code",
   "execution_count": null,
   "metadata": {},
   "outputs": [],
   "source": []
  }
 ],
 "metadata": {
  "kernelspec": {
   "display_name": "Python 3 (ipykernel)",
   "language": "python",
   "name": "python3"
  },
  "language_info": {
   "codemirror_mode": {
    "name": "ipython",
    "version": 3
   },
   "file_extension": ".py",
   "mimetype": "text/x-python",
   "name": "python",
   "nbconvert_exporter": "python",
   "pygments_lexer": "ipython3",
   "version": "3.9.7"
  }
 },
 "nbformat": 4,
 "nbformat_minor": 4
}
