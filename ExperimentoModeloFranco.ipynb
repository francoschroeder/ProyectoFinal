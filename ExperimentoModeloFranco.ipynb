{
 "cells": [
  {
   "cell_type": "markdown",
   "metadata": {},
   "source": [
    "###  Import libraries\n"
   ]
  },
  {
   "cell_type": "code",
   "execution_count": 1,
   "metadata": {},
   "outputs": [],
   "source": [
    "import tensorflow as tf\n",
    "import os\n",
    "import pandas as pd\n",
    "import numpy as np\n",
    "from tensorflow import keras\n",
    "import matplotlib.pyplot as plt\n",
    "%matplotlib inline\n",
    "\n",
    "import os\n",
    "os.environ[\"KMP_DUPLICATE_LIB_OK\"]=\"TRUE\""
   ]
  },
  {
   "cell_type": "markdown",
   "metadata": {},
   "source": [
    "### Read CSV"
   ]
  },
  {
   "cell_type": "code",
   "execution_count": 2,
   "metadata": {},
   "outputs": [],
   "source": [
    "data = pd.read_csv(\"jena_climate_2009_2016.csv\", parse_dates=True, index_col=0)"
   ]
  },
  {
   "cell_type": "markdown",
   "metadata": {},
   "source": [
    "### Step 4: Limit dataset\n",
    "- The dataset has metrics for every 10 minutes - we will limit it to only once per hour\n",
    "    - HINT: **data[5::6]** will start at 5 and step 6.\n",
    "        - **a[start:stop:step]** start through not past stop, by step"
   ]
  },
  {
   "cell_type": "code",
   "execution_count": 3,
   "metadata": {},
   "outputs": [],
   "source": [
    "data = data[5::6]"
   ]
  },
  {
   "cell_type": "markdown",
   "metadata": {},
   "source": [
    "### Step 5: Investigate data\n",
    "- Call **corr()** on the data to see correlations\n",
    "- Inspect what columns are correlated and not"
   ]
  },
  {
   "cell_type": "markdown",
   "metadata": {},
   "source": [
    "### Step 6: Remove data\n",
    "- Potential some data could be transformed **'wv (m/s)', 'max. wv (m/s)', 'wd (deg)'**\n",
    "    - We will ignorre it"
   ]
  },
  {
   "cell_type": "code",
   "execution_count": 4,
   "metadata": {},
   "outputs": [],
   "source": [
    "df = data.drop(['p (mbar)','wv (m/s)', 'max. wv (m/s)', 'wd (deg)'],axis = 1)"
   ]
  },
  {
   "cell_type": "markdown",
   "metadata": {},
   "source": [
    "### Step 7: Add periodic time intervals\n",
    "- Temperature is correlated to the time of day - e.g. it is warmer at mid day than at mid night\n",
    "- Temperature is correlated to seasons (most places in the world) - e.g. it is warmer in summer than in winter\n",
    "- The datetime index is not easy for the model to interpret, hence we can transform it into sinus and cosinus curves based on day and year.\n",
    "- Do it like this\n",
    "    - Assign the dataframe index to a variable, say, **timestamp_s**\n",
    "    - Transform that by using **map(pd.Timestamp.timestamp)**\n",
    "    - Use the period **day =** $24\\times 60 \\times 60$ and **year =** $(365.2425)\\times$**day**\n",
    "    - Make the following columns **'Day sin', 'Day cos', 'Year sin'**, and **'Year cos'** as follows:\n",
    "        - e.g. **df['Day sin'] = np.sin(timestamp_s * (2 * np.pi / day))**"
   ]
  },
  {
   "cell_type": "code",
   "execution_count": 5,
   "metadata": {},
   "outputs": [],
   "source": [
    "timestamp_s = df.index\n",
    "timestamp_s = timestamp_s.map(pd.Timestamp.timestamp)"
   ]
  },
  {
   "cell_type": "code",
   "execution_count": 6,
   "metadata": {},
   "outputs": [],
   "source": [
    "day = 24*60*60\n",
    "year = 365.2425 * day"
   ]
  },
  {
   "cell_type": "code",
   "execution_count": 7,
   "metadata": {},
   "outputs": [],
   "source": [
    " df['Day sin'] = np.sin(timestamp_s * (2 * np.pi / day))\n",
    " df['Day cos'] = np.cos(timestamp_s * (2 * np.pi / day))\n",
    " df['Year sin'] = np.sin(timestamp_s * (2 * np.pi / year))\n",
    " df['Year cos'] = np.cos(timestamp_s * (2 * np.pi / year))"
   ]
  },
  {
   "cell_type": "markdown",
   "metadata": {},
   "source": [
    "### Step 8: Splitting data\n",
    "\n",
    "#### About splitting\n",
    "If you want to build a solid model you have to follow that specific protocol of splitting your data into three sets: One for training, one for validation and one for final evaluation, which is the test set.\n",
    "\n",
    "The idea is that you train on your training data and tune your model with the results of metrics (accuracy, loss etc) that you get from your validation set.\n",
    "\n",
    "Your model doesn't \"see\" your validation set and isn't in any way trained on it, but you as the architect and master of the hyperparameters tune the model according to this data. Therefore it indirectly influences your model because it directly influences your design decisions. You nudge your model to work well with the validation data and that can possibly bring in a tilt.\n",
    "\n",
    "#### What to do?\n",
    "- Use the length of data and split it into\n",
    "    - 70% for training\n",
    "    - 20% for validation\n",
    "    - 10% for testing set"
   ]
  },
  {
   "cell_type": "code",
   "execution_count": 8,
   "metadata": {},
   "outputs": [],
   "source": [
    "n = len(df)\n",
    "train_df = df[:int(n*.7)]\n",
    "val_df = df[int(n*.7):int(n*.9)]\n",
    "test_df = df[int(n*.9):]"
   ]
  },
  {
   "cell_type": "markdown",
   "metadata": {},
   "source": [
    "### Step 9: Normalize data\n",
    "- Only normalize data based on training data\n",
    "    - Notice you should only normalize the training data - because validation and test data could affect the normalization\n",
    "- Get the mean and standard deviation of the data\n",
    "    - HINT: Use **.mean()** and **.std()** on the dataframe.\n",
    "- Noramlize the data as follows\n",
    "    - **train_df = (train_df - train_mean) / train_std** (assuming naming fits)\n",
    "    - HINT: The transformation of validation and test data is done similarly with **train_mean** and **train_std**."
   ]
  },
  {
   "cell_type": "code",
   "execution_count": 9,
   "metadata": {},
   "outputs": [],
   "source": [
    "train_mean = train_df.mean()\n",
    "train_std = train_df.std()"
   ]
  },
  {
   "cell_type": "code",
   "execution_count": 10,
   "metadata": {},
   "outputs": [],
   "source": [
    "train_df = (train_df - train_mean) / train_std\n",
    "val_df = (val_df - train_mean) / train_std\n",
    "test_df = (test_df - train_mean) / train_std"
   ]
  },
  {
   "cell_type": "markdown",
   "metadata": {},
   "source": [
    "### Step 10: Create datasets\n"
   ]
  },
  {
   "cell_type": "code",
   "execution_count": 11,
   "metadata": {},
   "outputs": [],
   "source": [
    "def create_dataset(df, input_width=24, offset=0, predict_column='T (degC)'):\n",
    "    x = []\n",
    "    y = []\n",
    "    data_x = df.to_numpy()\n",
    "    data_y = df[predict_column].to_numpy()\n",
    "    \n",
    "    for i in range(input_width, len(data_x) - offset):\n",
    "        x.append(data_x[i - input_width:i,:])\n",
    "        y.append(data_y[i + offset])\n",
    "        \n",
    "    x = np.array(x)\n",
    "    y = np.array(y)\n",
    "    \n",
    "    return x, y.reshape(-1,1)"
   ]
  },
  {
   "cell_type": "code",
   "execution_count": 12,
   "metadata": {},
   "outputs": [],
   "source": [
    "train_ds = create_dataset(train_df)\n",
    "val_ds = create_dataset(val_df)\n",
    "test_ds = create_dataset(test_df)"
   ]
  },
  {
   "cell_type": "markdown",
   "metadata": {},
   "source": [
    "### Step 11: Create model\n",
    "- Create the following model\n",
    "    - **model = models.Sequential()**\n",
    "    - **model.add(layers.LSTM(32, return_sequences=True, input_shape=train_ds[0].shape[1:]))**\n",
    "    - **model.add(layers.Dense(units=1))**"
   ]
  },
  {
   "cell_type": "code",
   "execution_count": 13,
   "metadata": {},
   "outputs": [
    {
     "name": "stdout",
     "output_type": "stream",
     "text": [
      "Model: \"model\"\n",
      "_________________________________________________________________\n",
      "Layer (type)                 Output Shape              Param #   \n",
      "=================================================================\n",
      "input_1 (InputLayer)         [(None, 24, 14)]          0         \n",
      "_________________________________________________________________\n",
      "lstm (LSTM)                  (None, 32)                6016      \n",
      "_________________________________________________________________\n",
      "dense (Dense)                (None, 1)                 33        \n",
      "=================================================================\n",
      "Total params: 6,049\n",
      "Trainable params: 6,049\n",
      "Non-trainable params: 0\n",
      "_________________________________________________________________\n"
     ]
    }
   ],
   "source": [
    "inputs = keras.layers.Input(shape=(train_ds[0].shape[1], train_ds[0].shape[2]))\n",
    "lstm_layer = keras.layers.LSTM(32)(inputs)\n",
    "output = keras.layers.Dense(1)(lstm_layer)\n",
    "\n",
    "model = keras.Model(inputs, output)\n",
    "model.compile(keras.optimizers.Adam(0.001), loss=\"mse\")\n",
    "model.summary()"
   ]
  },
  {
   "cell_type": "markdown",
   "metadata": {},
   "source": [
    "### Step 12: Train model\n",
    "- Compile and fit the model\n",
    "- Complie the model as follows\n",
    "    - **model.compile(optimizer='adam', loss='mean_squared_error', metrics=['accuracy'])**\n",
    "- Fit the model as follows\n",
    "    - **model.fit(x=train_ds[0], y=train_ds[1], validation_data=(val_ds[0], val_ds[1]), epochs=5)**"
   ]
  },
  {
   "cell_type": "code",
   "execution_count": 14,
   "metadata": {},
   "outputs": [
    {
     "name": "stdout",
     "output_type": "stream",
     "text": [
      "Epoch 1/25\n",
      "1533/1533 [==============================] - 11s 6ms/step - loss: 0.0166 - val_loss: 0.0071\n",
      "Epoch 2/25\n",
      "1533/1533 [==============================] - 9s 6ms/step - loss: 0.0071 - val_loss: 0.0071\n",
      "Epoch 3/25\n",
      "1533/1533 [==============================] - 8s 5ms/step - loss: 0.0068 - val_loss: 0.0063\n",
      "Epoch 4/25\n",
      "1533/1533 [==============================] - 9s 6ms/step - loss: 0.0067 - val_loss: 0.0062\n",
      "Epoch 5/25\n",
      "1533/1533 [==============================] - 8s 5ms/step - loss: 0.0066 - val_loss: 0.0067\n",
      "Epoch 6/25\n",
      "1533/1533 [==============================] - 9s 6ms/step - loss: 0.0066 - val_loss: 0.0063\n",
      "Epoch 7/25\n",
      "1533/1533 [==============================] - 10s 7ms/step - loss: 0.0065 - val_loss: 0.0062\n",
      "Epoch 8/25\n",
      "1533/1533 [==============================] - 10s 7ms/step - loss: 0.0065 - val_loss: 0.0061\n",
      "Epoch 9/25\n",
      "1533/1533 [==============================] - 8s 5ms/step - loss: 0.0064 - val_loss: 0.0060\n",
      "Epoch 10/25\n",
      "1533/1533 [==============================] - 9s 6ms/step - loss: 0.0064 - val_loss: 0.0066\n",
      "Epoch 11/25\n",
      "1533/1533 [==============================] - 9s 6ms/step - loss: 0.0064 - val_loss: 0.0060\n",
      "Epoch 12/25\n",
      "1533/1533 [==============================] - 9s 6ms/step - loss: 0.0063 - val_loss: 0.0063\n",
      "Epoch 13/25\n",
      "1533/1533 [==============================] - 9s 6ms/step - loss: 0.0063 - val_loss: 0.0065\n",
      "Epoch 14/25\n",
      "1533/1533 [==============================] - 8s 5ms/step - loss: 0.0063 - val_loss: 0.0061\n",
      "Epoch 15/25\n",
      "1533/1533 [==============================] - 8s 5ms/step - loss: 0.0062 - val_loss: 0.0062\n",
      "Epoch 16/25\n",
      "1533/1533 [==============================] - 8s 5ms/step - loss: 0.0062 - val_loss: 0.0060\n",
      "Epoch 17/25\n",
      "1533/1533 [==============================] - 9s 6ms/step - loss: 0.0062 - val_loss: 0.0061\n",
      "Epoch 18/25\n",
      "1533/1533 [==============================] - 8s 5ms/step - loss: 0.0061 - val_loss: 0.0060\n",
      "Epoch 19/25\n",
      "1533/1533 [==============================] - 8s 5ms/step - loss: 0.0061 - val_loss: 0.0061\n",
      "Epoch 20/25\n",
      "1533/1533 [==============================] - 9s 6ms/step - loss: 0.0061 - val_loss: 0.0060\n",
      "Epoch 21/25\n",
      "1533/1533 [==============================] - 9s 6ms/step - loss: 0.0061 - val_loss: 0.0059\n",
      "Epoch 22/25\n",
      "1533/1533 [==============================] - 9s 6ms/step - loss: 0.0061 - val_loss: 0.0059\n",
      "Epoch 23/25\n",
      "1533/1533 [==============================] - 9s 6ms/step - loss: 0.0060 - val_loss: 0.0059\n",
      "Epoch 24/25\n",
      "1533/1533 [==============================] - 9s 6ms/step - loss: 0.0060 - val_loss: 0.0059\n",
      "Epoch 25/25\n",
      "1533/1533 [==============================] - 8s 6ms/step - loss: 0.0060 - val_loss: 0.0060\n"
     ]
    }
   ],
   "source": [
    "history = model.fit(x=train_ds[0], y=train_ds[1], epochs=25, validation_data=val_ds)"
   ]
  },
  {
   "cell_type": "code",
   "execution_count": 15,
   "metadata": {},
   "outputs": [
    {
     "data": {
      "image/png": "[encoded data removed]",
      "text/plain": [
       "<Figure size 432x288 with 1 Axes>"
      ]
     },
     "metadata": {
      "needs_background": "light"
     },
     "output_type": "display_data"
    }
   ],
   "source": [
    "def visualize_loss(history, title):\n",
    "    loss = history.history[\"loss\"]\n",
    "    val_loss = history.history[\"val_loss\"]\n",
    "    epochs = range(len(loss))\n",
    "    plt.figure()\n",
    "    plt.plot(epochs, loss, \"b\", label=\"Training loss\")\n",
    "    plt.plot(epochs, val_loss, \"r\", label=\"Validation loss\")\n",
    "    plt.title(title)\n",
    "    plt.xlabel(\"Epochs\")\n",
    "    plt.ylabel(\"Loss\")\n",
    "    plt.legend()\n",
    "    plt.show()\n",
    "\n",
    "visualize_loss(history, \"Training and Validation Loss\")"
   ]
  },
  {
   "cell_type": "markdown",
   "metadata": {},
   "source": [
    "### Step 13: Predict data\n",
    "- Apply the model on the test data\n",
    "    - HINT: Use **model.predict(x)**, where **x** is assigned to the test data."
   ]
  },
  {
   "cell_type": "code",
   "execution_count": 16,
   "metadata": {},
   "outputs": [
    {
     "data": {
      "text/plain": [
       "(6986, 1)"
      ]
     },
     "execution_count": 16,
     "metadata": {},
     "output_type": "execute_result"
    }
   ],
   "source": [
    "x, y = test_ds\n",
    "\n",
    "y_pred = model.predict(x)\n",
    "\n",
    "y_pred.shape"
   ]
  },
  {
   "cell_type": "markdown",
   "metadata": {},
   "source": [
    "### Step 14: Plot the result\n",
    "- Plot a window of the data predicted together with the actual data.\n",
    "- One way:\n",
    "    - **fig, ax = plt.subplots()**\n",
    "    - **ax.plot(y[i:i+96*2,0], c='g')**\n",
    "    - **ax.plot(pred[i:i+96*2,-1,0], c='r')**\n",
    "- It will plot a window of 96 hours, where you can index with **i** (**i=150** as an example) and **y** is the real values and **pred** are the predicted values"
   ]
  },
  {
   "cell_type": "code",
   "execution_count": 24,
   "metadata": {},
   "outputs": [
    {
     "data": {
      "text/plain": [
       "<matplotlib.legend.Legend at 0x17094b1afd0>"
      ]
     },
     "execution_count": 24,
     "metadata": {},
     "output_type": "execute_result"
    },
    {
     "data": {
      "image/png": "[encoded data removed]",
      "text/plain": [
       "<Figure size 432x288 with 1 Axes>"
      ]
     },
     "metadata": {
      "needs_background": "light"
     },
     "output_type": "display_data"
    }
   ],
   "source": [
    "fig, ax = plt.subplots()\n",
    "\n",
    "i = 150\n",
    "\n",
    "ax.plot(y[0:100], c='g', label=\"Test Data\")\n",
    "ax.plot(y_pred[0:100], c='r', label=\"Prediction\")\n",
    "plt.legend()"
   ]
  },
  {
   "cell_type": "code",
   "execution_count": null,
   "metadata": {},
   "outputs": [],
   "source": []
  }
 ],
 "metadata": {
  "kernelspec": {
   "display_name": "Python 3 (ipykernel)",
   "language": "python",
   "name": "python3"
  },
  "language_info": {
   "codemirror_mode": {
    "name": "ipython",
    "version": 3
   },
   "file_extension": ".py",
   "mimetype": "text/x-python",
   "name": "python",
   "nbconvert_exporter": "python",
   "pygments_lexer": "ipython3",
   "version": "3.9.7"
  }
 },
 "nbformat": 4,
 "nbformat_minor": 2
}
