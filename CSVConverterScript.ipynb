{
 "cells": [
  {
   "cell_type": "code",
   "execution_count": 2,
   "id": "9a50aa3e",
   "metadata": {},
   "outputs": [
    {
     "ename": "FileExistsError",
     "evalue": "[Errno 17] File exists: 'regina.csv'",
     "output_type": "error",
     "traceback": [
      "\u001b[1;31m---------------------------------------------------------------------------\u001b[0m",
      "\u001b[1;31mFileExistsError\u001b[0m                           Traceback (most recent call last)",
      "\u001b[1;32m~\\AppData\\Local\\Temp/ipykernel_12252/3787984586.py\u001b[0m in \u001b[0;36m<module>\u001b[1;34m\u001b[0m\n\u001b[1;32m----> 1\u001b[1;33m \u001b[0mcsvfile\u001b[0m \u001b[1;33m=\u001b[0m \u001b[0mopen\u001b[0m\u001b[1;33m(\u001b[0m\u001b[1;34m\"regina.csv\"\u001b[0m\u001b[1;33m,\u001b[0m \u001b[1;34m\"x\"\u001b[0m\u001b[1;33m)\u001b[0m\u001b[1;33m\u001b[0m\u001b[1;33m\u001b[0m\u001b[0m\n\u001b[0m\u001b[0;32m      2\u001b[0m \u001b[0mtxtfiles\u001b[0m \u001b[1;33m=\u001b[0m \u001b[1;33m[\u001b[0m\u001b[1;34m\"2010-2011.txt\"\u001b[0m\u001b[1;33m,\u001b[0m \u001b[1;34m\"2012-2013.txt\"\u001b[0m\u001b[1;33m,\u001b[0m \u001b[1;34m\"2014-2015.txt\"\u001b[0m\u001b[1;33m,\u001b[0m \u001b[1;34m\"2016-2017.txt\"\u001b[0m\u001b[1;33m,\u001b[0m \u001b[1;34m\"2018-2019.txt\"\u001b[0m\u001b[1;33m,\u001b[0m \u001b[1;34m\"2020-2021.txt\"\u001b[0m\u001b[1;33m]\u001b[0m\u001b[1;33m\u001b[0m\u001b[1;33m\u001b[0m\u001b[0m\n\u001b[0;32m      3\u001b[0m \u001b[1;33m\u001b[0m\u001b[0m\n\u001b[0;32m      4\u001b[0m \u001b[0mcurrentfile\u001b[0m \u001b[1;33m=\u001b[0m \u001b[1;36m0\u001b[0m\u001b[1;33m\u001b[0m\u001b[1;33m\u001b[0m\u001b[0m\n\u001b[0;32m      5\u001b[0m \u001b[0mfile\u001b[0m \u001b[1;33m=\u001b[0m \u001b[0mopen\u001b[0m\u001b[1;33m(\u001b[0m\u001b[0mtxtfiles\u001b[0m\u001b[1;33m[\u001b[0m\u001b[0mcurrentfile\u001b[0m\u001b[1;33m]\u001b[0m\u001b[1;33m)\u001b[0m\u001b[1;33m\u001b[0m\u001b[1;33m\u001b[0m\u001b[0m\n",
      "\u001b[1;31mFileExistsError\u001b[0m: [Errno 17] File exists: 'regina.csv'"
     ]
    }
   ],
   "source": [
    "csvfile = open(\"regina.csv\", \"x\")\n",
    "txtfiles = [\"2010-2011.txt\", \"2012-2013.txt\", \"2014-2015.txt\", \"2016-2017.txt\", \"2018-2019.txt\", \"2020-2021.txt\"]\n",
    "\n",
    "currentfile = 0\n",
    "file = open(txtfiles[currentfile])\n",
    "\n",
    "file.readline()\n",
    "file.readline()\n",
    "\n",
    "csvfile.write(\"\\\"Date Time\\\",\\\"Temp Out\\\",\\\"Hi Temp\\\",\\\"Low Temp\\\",\\\"Out Hum\\\",\\\"Dew Pt.\\\",\\\"Wind Speed\\\",\\\"Wind Dir\\\",\\\"Wind Run\\\",\\\"Hi Speed\\\",\\\"Hi Dir\\\",\\\"Wind Chill\\\",\\\"Heat Index\\\",\\\"THW Index\\\",\\\"THSW Index\\\",\\\"Bar\\\",\\\"Rain\\\",\\\"Rain Rate\\\",\\\"Solar Rad.\\\",\\\"Solar Energy\\\",\\\"Hi Solar Rad.\\\",\\\"Heat D-D\\\",\\\"Cool D-D\\\",\\\"In Temp\\\",\\\"In Hum\\\",\\\"In Dew\\\",\\\"In Heat\\\",\\\"ET\\\",\\\"Wind Samp\\\",\\\"Wind Tx\\\",\\\"ISS Recept\\\",\\\"Arc. Int\\\"\\n\")\n",
    "\n",
    "while currentfile < len(txtfiles):\n",
    "    for line in file:\n",
    "        line = line[:8] + \" \" + line[9:]\n",
    "        line = line.replace(\"\\t\",\",\")\n",
    "        line = line.replace(\"/\", \".\")\n",
    "        \n",
    "        csvfile.write(line)\n",
    "    \n",
    "    file.close()\n",
    "    currentfile += 1\n",
    "    if currentfile < len(txtfiles):\n",
    "        file = open(txtfiles[currentfile])\n",
    "        file.readline()\n",
    "        file.readline()\n",
    "\n",
    "csvfile.close()\n",
    "\n",
    "print(\"Archivo convertido exitosamente\")"
   ]
  },
  {
   "cell_type": "code",
   "execution_count": null,
   "id": "73519169",
   "metadata": {},
   "outputs": [],
   "source": []
  }
 ],
 "metadata": {
  "kernelspec": {
   "display_name": "Python 3 (ipykernel)",
   "language": "python",
   "name": "python3"
  },
  "language_info": {
   "codemirror_mode": {
    "name": "ipython",
    "version": 3
   },
   "file_extension": ".py",
   "mimetype": "text/x-python",
   "name": "python",
   "nbconvert_exporter": "python",
   "pygments_lexer": "ipython3",
   "version": "3.9.7"
  }
 },
 "nbformat": 4,
 "nbformat_minor": 5
}
