{
 "cells": [
  {
   "cell_type": "code",
   "execution_count": 1,
   "id": "9a50aa3e",
   "metadata": {},
   "outputs": [
    {
     "name": "stdout",
     "output_type": "stream",
     "text": [
      "Archivo convertido exitosamente\n"
     ]
    }
   ],
   "source": [
    "csvfile = open(\"regina.csv\", \"x\")\n",
    "txtfiles = [\"2010-2011.txt\", \"2012-2013.txt\", \"2014-2015.txt\", \"2016-2017.txt\", \"2018-2019.txt\", \"2020-2021.txt\"]\n",
    "\n",
    "currentfile = 0\n",
    "file = open(txtfiles[currentfile])\n",
    "\n",
    "file.readline()\n",
    "file.readline()\n",
    "\n",
    "csvfile.write(\"\\\"Date Time\\\",\\\"Temp Out\\\",\\\"Hi Temp\\\",\\\"Low Temp\\\",\\\"Out Hum\\\",\\\"Dew Pt.\\\",\\\"Wind Speed\\\",\\\"Wind Dir\\\",\\\"Wind Run\\\",\\\"Hi Speed\\\",\\\"Hi Dir\\\",\\\"Wind Chill\\\",\\\"Heat Index\\\",\\\"THW Index\\\",\\\"THSW Index\\\",\\\"Bar\\\",\\\"Rain\\\",\\\"Rain Rate\\\",\\\"Solar Rad.\\\",\\\"Solar Energy\\\",\\\"Hi Solar Rad.\\\",\\\"Heat D-D\\\",\\\"Cool D-D\\\",\\\"In Temp\\\",\\\"In Hum\\\",\\\"In Dew\\\",\\\"In Heat\\\",\\\"ET\\\",\\\"Wind Samp\\\",\\\"Wind Tx\\\",\\\"ISS Recept\\\",\\\"Arc. Int\\\"\\n\")\n",
    "\n",
    "while currentfile < len(txtfiles):\n",
    "    for line in file:\n",
    "        line = line[:8] + \" \" + line[9:]\n",
    "        line = line.replace(\"\\t\",\",\")\n",
    "        line = line.replace(\"/\", \".\")\n",
    "        \n",
    "        csvfile.write(line)\n",
    "    \n",
    "    file.close()\n",
    "    currentfile += 1\n",
    "    if currentfile < len(txtfiles):\n",
    "        file = open(txtfiles[currentfile])\n",
    "        file.readline()\n",
    "        file.readline()\n",
    "\n",
    "csvfile.close()\n",
    "\n",
    "print(\"Archivo convertido exitosamente\")"
   ]
  }
 ],
 "metadata": {
  "kernelspec": {
   "display_name": "Python 3 (ipykernel)",
   "language": "python",
   "name": "python3"
  },
  "language_info": {
   "codemirror_mode": {
    "name": "ipython",
    "version": 3
   },
   "file_extension": ".py",
   "mimetype": "text/x-python",
   "name": "python",
   "nbconvert_exporter": "python",
   "pygments_lexer": "ipython3",
   "version": "3.9.7"
  }
 },
 "nbformat": 4,
 "nbformat_minor": 5
}
